{
 "cells": [
  {
   "cell_type": "markdown",
   "metadata": {
    "id": "DAwXsv5USYvv"
   },
   "source": [
    "Instalando o tf_agents caso não esteja instalado"
   ]
  },
  {
   "cell_type": "code",
   "execution_count": 1,
   "metadata": {
    "id": "Whz4yRiYjPw6"
   },
   "outputs": [
    {
     "name": "stderr",
     "output_type": "stream",
     "text": [
      "    ERROR: Command errored out with exit status 1:\n",
      "     command: 'c:\\python39\\python.exe' -u -c 'import sys, setuptools, tokenize; sys.argv[0] = '\"'\"'C:\\\\Users\\\\IBYTE\\\\AppData\\\\Local\\\\Temp\\\\pip-install-p8crtzsn\\\\pillow_e991c0cf64494cb9880f907c221bd81b\\\\setup.py'\"'\"'; __file__='\"'\"'C:\\\\Users\\\\IBYTE\\\\AppData\\\\Local\\\\Temp\\\\pip-install-p8crtzsn\\\\pillow_e991c0cf64494cb9880f907c221bd81b\\\\setup.py'\"'\"';f=getattr(tokenize, '\"'\"'open'\"'\"', open)(__file__);code=f.read().replace('\"'\"'\\r\\n'\"'\"', '\"'\"'\\n'\"'\"');f.close();exec(compile(code, __file__, '\"'\"'exec'\"'\"'))' install --record 'C:\\Users\\IBYTE\\AppData\\Local\\Temp\\pip-record-13zglka9\\install-record.txt' --single-version-externally-managed --compile --install-headers 'c:\\python39\\Include\\pillow'\n",
      "         cwd: C:\\Users\\IBYTE\\AppData\\Local\\Temp\\pip-install-p8crtzsn\\pillow_e991c0cf64494cb9880f907c221bd81b\\\n",
      "    Complete output (174 lines):\n",
      "    C:\\Users\\IBYTE\\AppData\\Local\\Temp\\pip-install-p8crtzsn\\pillow_e991c0cf64494cb9880f907c221bd81b\\setup.py:42: RuntimeWarning: Pillow 7.2.0 does not support Python 3.9 and does not provide prebuilt Windows binaries. We do not recommend building from source on Windows.\n",
      "      warnings.warn(\n",
      "    running install\n",
      "    running build\n",
      "    running build_py\n",
      "    creating build\n",
      "    creating build\\lib.win-amd64-3.9\n",
      "    creating build\\lib.win-amd64-3.9\\PIL\n",
      "    copying src\\PIL\\BdfFontFile.py -> build\\lib.win-amd64-3.9\\PIL\n",
      "    copying src\\PIL\\BlpImagePlugin.py -> build\\lib.win-amd64-3.9\\PIL\n",
      "    copying src\\PIL\\BmpImagePlugin.py -> build\\lib.win-amd64-3.9\\PIL\n",
      "    copying src\\PIL\\BufrStubImagePlugin.py -> build\\lib.win-amd64-3.9\\PIL\n",
      "    copying src\\PIL\\ContainerIO.py -> build\\lib.win-amd64-3.9\\PIL\n",
      "    copying src\\PIL\\CurImagePlugin.py -> build\\lib.win-amd64-3.9\\PIL\n",
      "    copying src\\PIL\\DcxImagePlugin.py -> build\\lib.win-amd64-3.9\\PIL\n",
      "    copying src\\PIL\\DdsImagePlugin.py -> build\\lib.win-amd64-3.9\\PIL\n",
      "    copying src\\PIL\\EpsImagePlugin.py -> build\\lib.win-amd64-3.9\\PIL\n",
      "    copying src\\PIL\\ExifTags.py -> build\\lib.win-amd64-3.9\\PIL\n",
      "    copying src\\PIL\\features.py -> build\\lib.win-amd64-3.9\\PIL\n",
      "    copying src\\PIL\\FitsStubImagePlugin.py -> build\\lib.win-amd64-3.9\\PIL\n",
      "    copying src\\PIL\\FliImagePlugin.py -> build\\lib.win-amd64-3.9\\PIL\n",
      "    copying src\\PIL\\FontFile.py -> build\\lib.win-amd64-3.9\\PIL\n",
      "    copying src\\PIL\\FpxImagePlugin.py -> build\\lib.win-amd64-3.9\\PIL\n",
      "    copying src\\PIL\\FtexImagePlugin.py -> build\\lib.win-amd64-3.9\\PIL\n",
      "    copying src\\PIL\\GbrImagePlugin.py -> build\\lib.win-amd64-3.9\\PIL\n",
      "    copying src\\PIL\\GdImageFile.py -> build\\lib.win-amd64-3.9\\PIL\n",
      "    copying src\\PIL\\GifImagePlugin.py -> build\\lib.win-amd64-3.9\\PIL\n",
      "    copying src\\PIL\\GimpGradientFile.py -> build\\lib.win-amd64-3.9\\PIL\n",
      "    copying src\\PIL\\GimpPaletteFile.py -> build\\lib.win-amd64-3.9\\PIL\n",
      "    copying src\\PIL\\GribStubImagePlugin.py -> build\\lib.win-amd64-3.9\\PIL\n",
      "    copying src\\PIL\\Hdf5StubImagePlugin.py -> build\\lib.win-amd64-3.9\\PIL\n",
      "    copying src\\PIL\\IcnsImagePlugin.py -> build\\lib.win-amd64-3.9\\PIL\n",
      "    copying src\\PIL\\IcoImagePlugin.py -> build\\lib.win-amd64-3.9\\PIL\n",
      "    copying src\\PIL\\Image.py -> build\\lib.win-amd64-3.9\\PIL\n",
      "    copying src\\PIL\\ImageChops.py -> build\\lib.win-amd64-3.9\\PIL\n",
      "    copying src\\PIL\\ImageCms.py -> build\\lib.win-amd64-3.9\\PIL\n",
      "    copying src\\PIL\\ImageColor.py -> build\\lib.win-amd64-3.9\\PIL\n",
      "    copying src\\PIL\\ImageDraw.py -> build\\lib.win-amd64-3.9\\PIL\n",
      "    copying src\\PIL\\ImageDraw2.py -> build\\lib.win-amd64-3.9\\PIL\n",
      "    copying src\\PIL\\ImageEnhance.py -> build\\lib.win-amd64-3.9\\PIL\n",
      "    copying src\\PIL\\ImageFile.py -> build\\lib.win-amd64-3.9\\PIL\n",
      "    copying src\\PIL\\ImageFilter.py -> build\\lib.win-amd64-3.9\\PIL\n",
      "    copying src\\PIL\\ImageFont.py -> build\\lib.win-amd64-3.9\\PIL\n",
      "    copying src\\PIL\\ImageGrab.py -> build\\lib.win-amd64-3.9\\PIL\n",
      "    copying src\\PIL\\ImageMath.py -> build\\lib.win-amd64-3.9\\PIL\n",
      "    copying src\\PIL\\ImageMode.py -> build\\lib.win-amd64-3.9\\PIL\n",
      "    copying src\\PIL\\ImageMorph.py -> build\\lib.win-amd64-3.9\\PIL\n",
      "    copying src\\PIL\\ImageOps.py -> build\\lib.win-amd64-3.9\\PIL\n",
      "    copying src\\PIL\\ImagePalette.py -> build\\lib.win-amd64-3.9\\PIL\n",
      "    copying src\\PIL\\ImagePath.py -> build\\lib.win-amd64-3.9\\PIL\n",
      "    copying src\\PIL\\ImageQt.py -> build\\lib.win-amd64-3.9\\PIL\n",
      "    copying src\\PIL\\ImageSequence.py -> build\\lib.win-amd64-3.9\\PIL\n",
      "    copying src\\PIL\\ImageShow.py -> build\\lib.win-amd64-3.9\\PIL\n",
      "    copying src\\PIL\\ImageStat.py -> build\\lib.win-amd64-3.9\\PIL\n",
      "    copying src\\PIL\\ImageTk.py -> build\\lib.win-amd64-3.9\\PIL\n",
      "    copying src\\PIL\\ImageTransform.py -> build\\lib.win-amd64-3.9\\PIL\n",
      "    copying src\\PIL\\ImageWin.py -> build\\lib.win-amd64-3.9\\PIL\n",
      "    copying src\\PIL\\ImImagePlugin.py -> build\\lib.win-amd64-3.9\\PIL\n",
      "    copying src\\PIL\\ImtImagePlugin.py -> build\\lib.win-amd64-3.9\\PIL\n",
      "    copying src\\PIL\\IptcImagePlugin.py -> build\\lib.win-amd64-3.9\\PIL\n",
      "    copying src\\PIL\\Jpeg2KImagePlugin.py -> build\\lib.win-amd64-3.9\\PIL\n",
      "    copying src\\PIL\\JpegImagePlugin.py -> build\\lib.win-amd64-3.9\\PIL\n",
      "    copying src\\PIL\\JpegPresets.py -> build\\lib.win-amd64-3.9\\PIL\n",
      "    copying src\\PIL\\McIdasImagePlugin.py -> build\\lib.win-amd64-3.9\\PIL\n",
      "    copying src\\PIL\\MicImagePlugin.py -> build\\lib.win-amd64-3.9\\PIL\n",
      "    copying src\\PIL\\MpegImagePlugin.py -> build\\lib.win-amd64-3.9\\PIL\n",
      "    copying src\\PIL\\MpoImagePlugin.py -> build\\lib.win-amd64-3.9\\PIL\n",
      "    copying src\\PIL\\MspImagePlugin.py -> build\\lib.win-amd64-3.9\\PIL\n",
      "    copying src\\PIL\\PaletteFile.py -> build\\lib.win-amd64-3.9\\PIL\n",
      "    copying src\\PIL\\PalmImagePlugin.py -> build\\lib.win-amd64-3.9\\PIL\n",
      "    copying src\\PIL\\PcdImagePlugin.py -> build\\lib.win-amd64-3.9\\PIL\n",
      "    copying src\\PIL\\PcfFontFile.py -> build\\lib.win-amd64-3.9\\PIL\n",
      "    copying src\\PIL\\PcxImagePlugin.py -> build\\lib.win-amd64-3.9\\PIL\n",
      "    copying src\\PIL\\PdfImagePlugin.py -> build\\lib.win-amd64-3.9\\PIL\n",
      "    copying src\\PIL\\PdfParser.py -> build\\lib.win-amd64-3.9\\PIL\n",
      "    copying src\\PIL\\PixarImagePlugin.py -> build\\lib.win-amd64-3.9\\PIL\n",
      "    copying src\\PIL\\PngImagePlugin.py -> build\\lib.win-amd64-3.9\\PIL\n",
      "    copying src\\PIL\\PpmImagePlugin.py -> build\\lib.win-amd64-3.9\\PIL\n",
      "    copying src\\PIL\\PsdImagePlugin.py -> build\\lib.win-amd64-3.9\\PIL\n",
      "    copying src\\PIL\\PSDraw.py -> build\\lib.win-amd64-3.9\\PIL\n",
      "    copying src\\PIL\\PyAccess.py -> build\\lib.win-amd64-3.9\\PIL\n",
      "    copying src\\PIL\\SgiImagePlugin.py -> build\\lib.win-amd64-3.9\\PIL\n",
      "    copying src\\PIL\\SpiderImagePlugin.py -> build\\lib.win-amd64-3.9\\PIL\n",
      "    copying src\\PIL\\SunImagePlugin.py -> build\\lib.win-amd64-3.9\\PIL\n",
      "    copying src\\PIL\\TarIO.py -> build\\lib.win-amd64-3.9\\PIL\n",
      "    copying src\\PIL\\TgaImagePlugin.py -> build\\lib.win-amd64-3.9\\PIL\n",
      "    copying src\\PIL\\TiffImagePlugin.py -> build\\lib.win-amd64-3.9\\PIL\n",
      "    copying src\\PIL\\TiffTags.py -> build\\lib.win-amd64-3.9\\PIL\n",
      "    copying src\\PIL\\WalImageFile.py -> build\\lib.win-amd64-3.9\\PIL\n",
      "    copying src\\PIL\\WebPImagePlugin.py -> build\\lib.win-amd64-3.9\\PIL\n",
      "    copying src\\PIL\\WmfImagePlugin.py -> build\\lib.win-amd64-3.9\\PIL\n",
      "    copying src\\PIL\\XbmImagePlugin.py -> build\\lib.win-amd64-3.9\\PIL\n",
      "    copying src\\PIL\\XpmImagePlugin.py -> build\\lib.win-amd64-3.9\\PIL\n",
      "    copying src\\PIL\\XVThumbImagePlugin.py -> build\\lib.win-amd64-3.9\\PIL\n",
      "    copying src\\PIL\\_binary.py -> build\\lib.win-amd64-3.9\\PIL\n",
      "    copying src\\PIL\\_tkinter_finder.py -> build\\lib.win-amd64-3.9\\PIL\n",
      "    copying src\\PIL\\_util.py -> build\\lib.win-amd64-3.9\\PIL\n",
      "    copying src\\PIL\\_version.py -> build\\lib.win-amd64-3.9\\PIL\n",
      "    copying src\\PIL\\__init__.py -> build\\lib.win-amd64-3.9\\PIL\n",
      "    copying src\\PIL\\__main__.py -> build\\lib.win-amd64-3.9\\PIL\n",
      "    running egg_info\n",
      "    writing src\\Pillow.egg-info\\PKG-INFO\n",
      "    writing dependency_links to src\\Pillow.egg-info\\dependency_links.txt\n",
      "    writing top-level names to src\\Pillow.egg-info\\top_level.txt\n",
      "    reading manifest file 'src\\Pillow.egg-info\\SOURCES.txt'\n",
      "    reading manifest template 'MANIFEST.in'\n",
      "    warning: no files found matching '*.c'\n",
      "    warning: no files found matching '*.h'\n",
      "    warning: no files found matching '*.sh'\n",
      "    warning: no previously-included files found matching '.appveyor.yml'\n",
      "    warning: no previously-included files found matching '.coveragerc'\n",
      "    warning: no previously-included files found matching '.editorconfig'\n",
      "    warning: no previously-included files found matching '.readthedocs.yml'\n",
      "    warning: no previously-included files found matching 'codecov.yml'\n",
      "    warning: no previously-included files matching '.git*' found anywhere in distribution\n",
      "    warning: no previously-included files matching '*.pyc' found anywhere in distribution\n",
      "    warning: no previously-included files matching '*.so' found anywhere in distribution\n",
      "    no previously-included directories found matching '.ci'\n",
      "    writing manifest file 'src\\Pillow.egg-info\\SOURCES.txt'\n",
      "    running build_ext\n",
      "    \n",
      "    \n",
      "    The headers or library files could not be found for zlib,\n",
      "    a required dependency when compiling Pillow from source.\n",
      "    \n",
      "    Please see the install instructions at:\n",
      "       https://pillow.readthedocs.io/en/latest/installation.html\n",
      "    \n",
      "    Traceback (most recent call last):\n",
      "      File \"C:\\Users\\IBYTE\\AppData\\Local\\Temp\\pip-install-p8crtzsn\\pillow_e991c0cf64494cb9880f907c221bd81b\\setup.py\", line 864, in <module>\n",
      "        setup(\n",
      "      File \"c:\\python39\\lib\\site-packages\\setuptools\\__init__.py\", line 165, in setup\n",
      "        return distutils.core.setup(**attrs)\n",
      "      File \"c:\\python39\\lib\\distutils\\core.py\", line 148, in setup\n",
      "        dist.run_commands()\n",
      "      File \"c:\\python39\\lib\\distutils\\dist.py\", line 966, in run_commands\n",
      "        self.run_command(cmd)\n",
      "      File \"c:\\python39\\lib\\distutils\\dist.py\", line 985, in run_command\n",
      "        cmd_obj.run()\n",
      "      File \"c:\\python39\\lib\\site-packages\\setuptools\\command\\install.py\", line 61, in run\n",
      "        return orig.install.run(self)\n",
      "      File \"c:\\python39\\lib\\distutils\\command\\install.py\", line 546, in run\n",
      "        self.run_command('build')\n",
      "      File \"c:\\python39\\lib\\distutils\\cmd.py\", line 313, in run_command\n",
      "        self.distribution.run_command(command)\n",
      "      File \"c:\\python39\\lib\\distutils\\dist.py\", line 985, in run_command\n",
      "        cmd_obj.run()\n",
      "      File \"c:\\python39\\lib\\distutils\\command\\build.py\", line 135, in run\n",
      "        self.run_command(cmd_name)\n",
      "      File \"c:\\python39\\lib\\distutils\\cmd.py\", line 313, in run_command\n",
      "        self.distribution.run_command(command)\n",
      "      File \"c:\\python39\\lib\\distutils\\dist.py\", line 985, in run_command\n",
      "        cmd_obj.run()\n",
      "      File \"c:\\python39\\lib\\distutils\\command\\build_ext.py\", line 340, in run\n",
      "        self.build_extensions()\n",
      "      File \"C:\\Users\\IBYTE\\AppData\\Local\\Temp\\pip-install-p8crtzsn\\pillow_e991c0cf64494cb9880f907c221bd81b\\setup.py\", line 694, in build_extensions\n",
      "        raise RequiredDependencyException(f)\n",
      "    __main__.RequiredDependencyException: zlib\n",
      "    \n",
      "    During handling of the above exception, another exception occurred:\n",
      "    \n",
      "    Traceback (most recent call last):\n",
      "      File \"<string>\", line 1, in <module>\n",
      "      File \"C:\\Users\\IBYTE\\AppData\\Local\\Temp\\pip-install-p8crtzsn\\pillow_e991c0cf64494cb9880f907c221bd81b\\setup.py\", line 918, in <module>\n",
      "        raise RequiredDependencyException(msg)\n",
      "    __main__.RequiredDependencyException:\n",
      "    \n",
      "    The headers or library files could not be found for zlib,\n",
      "    a required dependency when compiling Pillow from source.\n",
      "    \n",
      "    Please see the install instructions at:\n",
      "       https://pillow.readthedocs.io/en/latest/installation.html\n",
      "    \n",
      "    \n",
      "    ----------------------------------------\n",
      "ERROR: Command errored out with exit status 1: 'c:\\python39\\python.exe' -u -c 'import sys, setuptools, tokenize; sys.argv[0] = '\"'\"'C:\\\\Users\\\\IBYTE\\\\AppData\\\\Local\\\\Temp\\\\pip-install-p8crtzsn\\\\pillow_e991c0cf64494cb9880f907c221bd81b\\\\setup.py'\"'\"'; __file__='\"'\"'C:\\\\Users\\\\IBYTE\\\\AppData\\\\Local\\\\Temp\\\\pip-install-p8crtzsn\\\\pillow_e991c0cf64494cb9880f907c221bd81b\\\\setup.py'\"'\"';f=getattr(tokenize, '\"'\"'open'\"'\"', open)(__file__);code=f.read().replace('\"'\"'\\r\\n'\"'\"', '\"'\"'\\n'\"'\"');f.close();exec(compile(code, __file__, '\"'\"'exec'\"'\"'))' install --record 'C:\\Users\\IBYTE\\AppData\\Local\\Temp\\pip-record-13zglka9\\install-record.txt' --single-version-externally-managed --compile --install-headers 'c:\\python39\\Include\\pillow' Check the logs for full command output.\n",
      "WARNING: You are using pip version 20.3.1; however, version 21.0.1 is available.\n",
      "You should consider upgrading via the 'c:\\python39\\python.exe -m pip install --upgrade pip' command.\n"
     ]
    }
   ],
   "source": [
    "!pip3 install -q tf-agents"
   ]
  },
  {
   "cell_type": "markdown",
   "metadata": {
    "pycharm": {
     "name": "#%% md\n"
    }
   },
   "source": [
    "Importando as funções e o ambiente."
   ]
  },
  {
   "cell_type": "code",
   "execution_count": 2,
   "metadata": {
    "id": "jMx-60e-Smrd",
    "pycharm": {
     "name": "#%%\n"
    }
   },
   "outputs": [],
   "source": [
    "from functions.numpy_functions import *\n",
    "from environments.py_function_environment import *"
   ]
  },
  {
   "cell_type": "markdown",
   "metadata": {
    "id": "a60xjf_hS6_5"
   },
   "source": [
    "Função para testar o agente treinado (Plota fitness x iteração)"
   ]
  },
  {
   "cell_type": "code",
   "execution_count": 3,
   "metadata": {
    "id": "2fVLzmb8uHXZ"
   },
   "outputs": [],
   "source": [
    "import matplotlib.pyplot as plt\n",
    "\n",
    "def evaluate_agent(eval_env, policy_eval, function, dims):\n",
    "    time_step = eval_env.reset()\n",
    "    \n",
    "    pos = time_step.observation.numpy()[0]\n",
    "    best_solution = function(pos)\n",
    "\n",
    "    best_solution_at_it = []\n",
    "    best_solution_at_it.append(best_solution)\n",
    "    best_it = 0\n",
    "    it = 0\n",
    "\n",
    "    while not time_step.is_last():\n",
    "        it += 1\n",
    "        action_step = policy_eval.action(time_step)\n",
    "        time_step = eval_env.step(action_step.action)\n",
    "\n",
    "        obj_value = -time_step.reward.numpy()[0]\n",
    "\n",
    "        if obj_value < best_solution:\n",
    "            best_solution = obj_value\n",
    "            pos = time_step.observation.numpy()[0]\n",
    "            best_it = it\n",
    "            \n",
    "        best_solution_at_it.append(best_solution)\n",
    "          \n",
    "    fig, ax = plt.subplots()\n",
    "    ax.plot(range(len(best_solution_at_it)), best_solution_at_it)\n",
    "    ax.set(xlabel=\"Iteration\", ylabel=\"Best objective value\", title=\"TD3 on {0} ({1} Dims)\".format(function.name, dims))\n",
    "    ax.grid()\n",
    "    plt.show()\n",
    "    print('best_solution: ', best_solution)\n",
    "    print('found at it: ', best_it)\n",
    "    print('at position: ', pos)"
   ]
  },
  {
   "cell_type": "markdown",
   "metadata": {
    "id": "xgluRyTFTEsx"
   },
   "source": [
    "Imports para Main (Agente, Redes, etc)"
   ]
  },
  {
   "cell_type": "code",
   "execution_count": 4,
   "metadata": {
    "id": "LMKXaEfFThlr"
   },
   "outputs": [],
   "source": [
    "import tensorflow as tf\n",
    "from tf_agents.environments.wrappers import TimeLimit\n",
    "from tf_agents.environments import tf_py_environment\n",
    "from tf_agents.agents import Td3Agent\n",
    "from tf_agents.agents.ddpg.actor_network import ActorNetwork\n",
    "from tf_agents.agents.ddpg.critic_network import CriticNetwork\n",
    "from tf_agents.drivers import dynamic_step_driver\n",
    "from tf_agents.policies.random_tf_policy import RandomTFPolicy\n",
    "from tf_agents.replay_buffers import tf_uniform_replay_buffer\n",
    "from tf_agents.utils import common"
   ]
  },
  {
   "cell_type": "markdown",
   "metadata": {
    "id": "5hZWRoyyTtp1"
   },
   "source": [
    "Hiperparâmetros"
   ]
  },
  {
   "cell_type": "code",
   "execution_count": 5,
   "metadata": {
    "id": "MgAUp1A4TtI3"
   },
   "outputs": [],
   "source": [
    "# Hiperparametros de treino\n",
    "num_episodes = 800 # @param {type:\"integer\"}\n",
    "initial_collect_episodes = 10 # @param {type:\"integer\"}\n",
    "collect_steps_per_iteration = 1 # @param {type:\"integer\"}\n",
    "\n",
    "# Hiperparametros da memória de replay\n",
    "buffer_size = 1000000 # @param {type:\"integer\"}\n",
    "batch_size = 64 # @param {type:\"number\"}\n",
    "\n",
    "# Hiperparametros do Agente\n",
    "actor_lr = 1e-4 # @param {type:\"number\"}\n",
    "critic_lr = 2e-4 # @param {type:\"number\"}\n",
    "tau = 5e-4 # @param {type:\"number\"}\n",
    "discount = 0.99 # @param {type:\"number\"}\n",
    "exploration_noise_std = 0.2 # @param {type:\"number\"}\n",
    "target_policy_noise = 0.2 # @param {type:\"number\"}\n",
    "target_policy_noise_clip = 0.5 # @param {type:\"number\"}\n",
    "actor_update_period = 2 # @param {type:\"integer\"}\n",
    "target_update_period = 2 # @param {type:\"integer\"}\n",
    "reward_scale_factor = 0.75 # @param {type:\"number\"}\n",
    "\n",
    "# --- Arquitetura da rede ---\n",
    "# Actor\n",
    "fc_layer_params = [400, 300] # FNN's do Actor\n",
    "# Critic\n",
    "observation_fc_layer_params = [400] # FNN's apenas para observações\n",
    "joint_fc_layer_params=[300] # FNN's depois de concatenar (observação, ação)\n",
    "\n"
   ]
  },
  {
   "cell_type": "markdown",
   "metadata": {
    "id": "8KSpCFFyTl58"
   },
   "source": [
    "Criando o Env"
   ]
  },
  {
   "cell_type": "code",
   "execution_count": 6,
   "metadata": {
    "id": "ZG0cpe9RT9lt"
   },
   "outputs": [],
   "source": [
    "# Envs\n",
    "steps = 500  # @param {type:\"integer\"}\n",
    "steps_eval = 2000  # @param {type:\"integer\"}\n",
    "dims = 2  # @param {type:\"integer\"}\n",
    "function = Ackley() # @param [\"Sphere()\", \"Ackley()\", \"Griewank()\", \"Levy()\", \"Zakharov()\", \"RotatedHyperEllipsoid()\", \"Rosenbrock()\"]{type: \"raw\"}\n",
    "\n",
    "env = PyFunctionEnvironment(function=function, dims=dims)\n",
    "\n",
    "env_training = TimeLimit(env=env, duration=steps)\n",
    "env_eval = TimeLimit(env=env, duration=steps_eval)\n",
    "tf_env_training = tf_py_environment.TFPyEnvironment(environment=env_training)\n",
    "tf_env_eval = tf_py_environment.TFPyEnvironment(environment=env_eval)\n",
    "\n",
    "obs_spec = tf_env_training.observation_spec()\n",
    "act_spec = tf_env_training.action_spec()\n",
    "time_spec = tf_env_training.time_step_spec()\n"
   ]
  },
  {
   "cell_type": "markdown",
   "metadata": {
    "id": "aSP3PBJwUCD0"
   },
   "source": [
    "Criando as redes"
   ]
  },
  {
   "cell_type": "code",
   "execution_count": 7,
   "metadata": {
    "id": "djan2SvxUG5G"
   },
   "outputs": [],
   "source": [
    "# Creating networks\n",
    "actor_network = ActorNetwork(input_tensor_spec=obs_spec,\n",
    "                             output_tensor_spec=act_spec,\n",
    "                             fc_layer_params=fc_layer_params,\n",
    "                             activation_fn=tf.keras.activations.relu)\n",
    "critic_network = CriticNetwork(input_tensor_spec=(obs_spec, act_spec),\n",
    "                               observation_fc_layer_params=observation_fc_layer_params,\n",
    "                               joint_fc_layer_params=joint_fc_layer_params,\n",
    "                               activation_fn=tf.keras.activations.relu,\n",
    "                               output_activation_fn=tf.keras.activations.linear)\n"
   ]
  },
  {
   "cell_type": "markdown",
   "metadata": {
    "id": "hVbb91AiUIdI"
   },
   "source": [
    "Criando o agente"
   ]
  },
  {
   "cell_type": "code",
   "execution_count": 8,
   "metadata": {
    "id": "NTaOktR1UPdw"
   },
   "outputs": [],
   "source": [
    "# Creating agent\n",
    "actor_optimizer = tf.keras.optimizers.Adam(learning_rate=actor_lr)\n",
    "critic_optimizer = tf.keras.optimizers.Adam(learning_rate=critic_lr)\n",
    "\n",
    "agent = Td3Agent(\n",
    "    time_step_spec=time_spec,\n",
    "    action_spec=act_spec,\n",
    "    actor_network=actor_network,\n",
    "    critic_network=critic_network,\n",
    "    actor_optimizer=actor_optimizer,\n",
    "    critic_optimizer=critic_optimizer,\n",
    "    target_update_tau=tau,\n",
    "    exploration_noise_std=exploration_noise_std,\n",
    "    target_policy_noise=target_policy_noise,\n",
    "    target_policy_noise_clip=target_policy_noise_clip,\n",
    "    actor_update_period=actor_update_period,\n",
    "    target_update_period=target_update_period,\n",
    "    reward_scale_factor=reward_scale_factor,\n",
    "    train_step_counter=tf.Variable(0),\n",
    "    gamma=discount)\n",
    "\n",
    "agent.initialize()"
   ]
  },
  {
   "cell_type": "markdown",
   "metadata": {
    "id": "yW2zDV7cURNi"
   },
   "source": [
    "Replay Buffer"
   ]
  },
  {
   "cell_type": "code",
   "execution_count": 9,
   "metadata": {
    "id": "jNBYocZnUTqe"
   },
   "outputs": [],
   "source": [
    "# Replay buffer\n",
    "replay_buffer = tf_uniform_replay_buffer.TFUniformReplayBuffer(data_spec=agent.collect_data_spec,\n",
    "                                                               batch_size=tf_env_training.batch_size,\n",
    "                                                               max_length=buffer_size)"
   ]
  },
  {
   "cell_type": "markdown",
   "metadata": {
    "id": "uVQKdOabUVSy"
   },
   "source": [
    "Criando o Driver e realizando coleta inicial"
   ]
  },
  {
   "cell_type": "code",
   "execution_count": 10,
   "metadata": {
    "id": "PQVXZMW3UYo7"
   },
   "outputs": [
    {
     "name": "stdout",
     "output_type": "stream",
     "text": [
      "WARNING:tensorflow:From C:\\Users\\IBYTE\\AppData\\Roaming\\Python\\Python38\\site-packages\\tf_agents\\drivers\\dynamic_step_driver.py:196: calling while_loop_v2 (from tensorflow.python.ops.control_flow_ops) with back_prop=False is deprecated and will be removed in a future version.\n",
      "Instructions for updating:\n",
      "back_prop=False is deprecated. Consider using tf.stop_gradient instead.\n",
      "Instead of:\n",
      "results = tf.while_loop(c, b, vars, back_prop=False)\n",
      "Use:\n",
      "results = tf.nest.map_structure(tf.stop_gradient, tf.while_loop(c, b, vars))\n"
     ]
    }
   ],
   "source": [
    "# Data Collection (Collect for initial episodes)\n",
    "driver = dynamic_step_driver.DynamicStepDriver(env=tf_env_training,\n",
    "                                               policy=agent.collect_policy,\n",
    "                                               observers=[replay_buffer.add_batch],\n",
    "                                               num_steps=collect_steps_per_iteration)\n",
    "driver.run = common.function(driver.run)\n",
    "\n",
    "\n",
    "initial_collect_driver = dynamic_step_driver.DynamicStepDriver(env=tf_env_training,\n",
    "                                               policy=agent.collect_policy,\n",
    "                                               observers=[replay_buffer.add_batch],\n",
    "                                               num_steps=collect_steps_per_iteration)\n",
    "\n",
    "initial_collect_driver.run = common.function(initial_collect_driver.run)\n",
    "\n",
    "for _ in range(initial_collect_episodes):\n",
    "    done = False\n",
    "    while not done:\n",
    "        time_step, _ = initial_collect_driver.run()\n",
    "        done = time_step.is_last()"
   ]
  },
  {
   "cell_type": "markdown",
   "metadata": {
    "id": "xdyE8wpdUdW6"
   },
   "source": [
    "Criando o dataset"
   ]
  },
  {
   "cell_type": "code",
   "execution_count": 11,
   "metadata": {
    "id": "vyqQoALeUfye"
   },
   "outputs": [
    {
     "name": "stdout",
     "output_type": "stream",
     "text": [
      "WARNING:tensorflow:From c:\\python38\\lib\\site-packages\\tensorflow\\python\\autograph\\operators\\control_flow.py:1218: ReplayBuffer.get_next (from tf_agents.replay_buffers.replay_buffer) is deprecated and will be removed in a future version.\n",
      "Instructions for updating:\n",
      "Use `as_dataset(..., single_deterministic_pass=False) instead.\n"
     ]
    }
   ],
   "source": [
    "# Creating a dataset\n",
    "dataset = replay_buffer.as_dataset(\n",
    "    sample_batch_size=batch_size,\n",
    "    num_steps=2)\n",
    "\n",
    "iterator = iter(dataset)"
   ]
  },
  {
   "cell_type": "markdown",
   "metadata": {
    "id": "ldLYm4-NUfU_"
   },
   "source": [
    "Treinamento do Agente"
   ]
  },
  {
   "cell_type": "code",
   "execution_count": 12,
   "metadata": {
    "id": "CA51bmP_mNVy"
   },
   "outputs": [
    {
     "name": "stdout",
     "output_type": "stream",
     "text": [
      "episode = 0 Best solution on episode: 18.457090377807617 Return on episode: -10696.598112106323\n",
      "episode = 1 Best solution on episode: 17.958709716796875 Return on episode: -10714.208728790283\n",
      "episode = 2 Best solution on episode: 20.114717483520508 Return on episode: -10772.343097686768\n",
      "episode = 3 Best solution on episode: 13.519765853881836 Return on episode: -10652.484825134277\n",
      "episode = 4 Best solution on episode: 18.266324996948242 Return on episode: -10763.738019943237\n",
      "episode = 5 Best solution on episode: 18.17694854736328 Return on episode: -10782.5621509552\n",
      "episode = 6 Best solution on episode: 20.80133819580078 Return on episode: -10781.107831954956\n",
      "episode = 7 Best solution on episode: 17.21858024597168 Return on episode: -10716.06456565857\n",
      "episode = 8 Best solution on episode: 19.81380844116211 Return on episode: -10769.416248321533\n",
      "episode = 9 Best solution on episode: 21.245637893676758 Return on episode: -10787.26901435852\n",
      "episode = 10 Best solution on episode: 9.38247299194336 Return on episode: -10693.448256492615\n",
      "episode = 11 Best solution on episode: 7.213069915771484 Return on episode: -10652.990453720093\n",
      "episode = 12 Best solution on episode: 20.92086410522461 Return on episode: -10784.537431716919\n",
      "episode = 13 Best solution on episode: 20.885196685791016 Return on episode: -10783.066259384155\n",
      "episode = 14 Best solution on episode: 12.08769702911377 Return on episode: -10695.131760597229\n",
      "episode = 15 Best solution on episode: 17.06513214111328 Return on episode: -10764.102571487427\n",
      "episode = 16 Best solution on episode: 20.874422073364258 Return on episode: -10783.91700553894\n"
     ]
    },
    {
     "ename": "KeyboardInterrupt",
     "evalue": "",
     "output_type": "error",
     "traceback": [
      "\u001B[1;31m---------------------------------------------------------------------------\u001B[0m",
      "\u001B[1;31mKeyboardInterrupt\u001B[0m                         Traceback (most recent call last)",
      "\u001B[1;32m<ipython-input-12-700caf9e6b9c>\u001B[0m in \u001B[0;36m<module>\u001B[1;34m\u001B[0m\n\u001B[0;32m     10\u001B[0m         \u001B[0mtime_step\u001B[0m\u001B[1;33m,\u001B[0m \u001B[0m_\u001B[0m \u001B[1;33m=\u001B[0m \u001B[0mdriver\u001B[0m\u001B[1;33m.\u001B[0m\u001B[0mrun\u001B[0m\u001B[1;33m(\u001B[0m\u001B[1;33m)\u001B[0m\u001B[1;33m\u001B[0m\u001B[1;33m\u001B[0m\u001B[0m\n\u001B[0;32m     11\u001B[0m         \u001B[0mexperience\u001B[0m\u001B[1;33m,\u001B[0m \u001B[0munused_info\u001B[0m \u001B[1;33m=\u001B[0m \u001B[0mnext\u001B[0m\u001B[1;33m(\u001B[0m\u001B[0miterator\u001B[0m\u001B[1;33m)\u001B[0m\u001B[1;33m\u001B[0m\u001B[1;33m\u001B[0m\u001B[0m\n\u001B[1;32m---> 12\u001B[1;33m         \u001B[0magent\u001B[0m\u001B[1;33m.\u001B[0m\u001B[0mtrain\u001B[0m\u001B[1;33m(\u001B[0m\u001B[0mexperience\u001B[0m\u001B[1;33m)\u001B[0m\u001B[1;33m\u001B[0m\u001B[1;33m\u001B[0m\u001B[0m\n\u001B[0m\u001B[0;32m     13\u001B[0m \u001B[1;33m\u001B[0m\u001B[0m\n\u001B[0;32m     14\u001B[0m         \u001B[0mobj_value\u001B[0m \u001B[1;33m=\u001B[0m \u001B[1;33m-\u001B[0m\u001B[0mtime_step\u001B[0m\u001B[1;33m.\u001B[0m\u001B[0mreward\u001B[0m\u001B[1;33m.\u001B[0m\u001B[0mnumpy\u001B[0m\u001B[1;33m(\u001B[0m\u001B[1;33m)\u001B[0m\u001B[1;33m[\u001B[0m\u001B[1;36m0\u001B[0m\u001B[1;33m]\u001B[0m\u001B[1;33m\u001B[0m\u001B[1;33m\u001B[0m\u001B[0m\n",
      "\u001B[1;32mc:\\python38\\lib\\site-packages\\tensorflow\\python\\eager\\def_function.py\u001B[0m in \u001B[0;36m__call__\u001B[1;34m(self, *args, **kwds)\u001B[0m\n\u001B[0;32m    826\u001B[0m     \u001B[0mtracing_count\u001B[0m \u001B[1;33m=\u001B[0m \u001B[0mself\u001B[0m\u001B[1;33m.\u001B[0m\u001B[0mexperimental_get_tracing_count\u001B[0m\u001B[1;33m(\u001B[0m\u001B[1;33m)\u001B[0m\u001B[1;33m\u001B[0m\u001B[1;33m\u001B[0m\u001B[0m\n\u001B[0;32m    827\u001B[0m     \u001B[1;32mwith\u001B[0m \u001B[0mtrace\u001B[0m\u001B[1;33m.\u001B[0m\u001B[0mTrace\u001B[0m\u001B[1;33m(\u001B[0m\u001B[0mself\u001B[0m\u001B[1;33m.\u001B[0m\u001B[0m_name\u001B[0m\u001B[1;33m)\u001B[0m \u001B[1;32mas\u001B[0m \u001B[0mtm\u001B[0m\u001B[1;33m:\u001B[0m\u001B[1;33m\u001B[0m\u001B[1;33m\u001B[0m\u001B[0m\n\u001B[1;32m--> 828\u001B[1;33m       \u001B[0mresult\u001B[0m \u001B[1;33m=\u001B[0m \u001B[0mself\u001B[0m\u001B[1;33m.\u001B[0m\u001B[0m_call\u001B[0m\u001B[1;33m(\u001B[0m\u001B[1;33m*\u001B[0m\u001B[0margs\u001B[0m\u001B[1;33m,\u001B[0m \u001B[1;33m**\u001B[0m\u001B[0mkwds\u001B[0m\u001B[1;33m)\u001B[0m\u001B[1;33m\u001B[0m\u001B[1;33m\u001B[0m\u001B[0m\n\u001B[0m\u001B[0;32m    829\u001B[0m       \u001B[0mcompiler\u001B[0m \u001B[1;33m=\u001B[0m \u001B[1;34m\"xla\"\u001B[0m \u001B[1;32mif\u001B[0m \u001B[0mself\u001B[0m\u001B[1;33m.\u001B[0m\u001B[0m_experimental_compile\u001B[0m \u001B[1;32melse\u001B[0m \u001B[1;34m\"nonXla\"\u001B[0m\u001B[1;33m\u001B[0m\u001B[1;33m\u001B[0m\u001B[0m\n\u001B[0;32m    830\u001B[0m       \u001B[0mnew_tracing_count\u001B[0m \u001B[1;33m=\u001B[0m \u001B[0mself\u001B[0m\u001B[1;33m.\u001B[0m\u001B[0mexperimental_get_tracing_count\u001B[0m\u001B[1;33m(\u001B[0m\u001B[1;33m)\u001B[0m\u001B[1;33m\u001B[0m\u001B[1;33m\u001B[0m\u001B[0m\n",
      "\u001B[1;32mc:\\python38\\lib\\site-packages\\tensorflow\\python\\eager\\def_function.py\u001B[0m in \u001B[0;36m_call\u001B[1;34m(self, *args, **kwds)\u001B[0m\n\u001B[0;32m    853\u001B[0m       \u001B[1;31m# In this case we have created variables on the first call, so we run the\u001B[0m\u001B[1;33m\u001B[0m\u001B[1;33m\u001B[0m\u001B[1;33m\u001B[0m\u001B[0m\n\u001B[0;32m    854\u001B[0m       \u001B[1;31m# defunned version which is guaranteed to never create variables.\u001B[0m\u001B[1;33m\u001B[0m\u001B[1;33m\u001B[0m\u001B[1;33m\u001B[0m\u001B[0m\n\u001B[1;32m--> 855\u001B[1;33m       \u001B[1;32mreturn\u001B[0m \u001B[0mself\u001B[0m\u001B[1;33m.\u001B[0m\u001B[0m_stateless_fn\u001B[0m\u001B[1;33m(\u001B[0m\u001B[1;33m*\u001B[0m\u001B[0margs\u001B[0m\u001B[1;33m,\u001B[0m \u001B[1;33m**\u001B[0m\u001B[0mkwds\u001B[0m\u001B[1;33m)\u001B[0m  \u001B[1;31m# pylint: disable=not-callable\u001B[0m\u001B[1;33m\u001B[0m\u001B[1;33m\u001B[0m\u001B[0m\n\u001B[0m\u001B[0;32m    856\u001B[0m     \u001B[1;32melif\u001B[0m \u001B[0mself\u001B[0m\u001B[1;33m.\u001B[0m\u001B[0m_stateful_fn\u001B[0m \u001B[1;32mis\u001B[0m \u001B[1;32mnot\u001B[0m \u001B[1;32mNone\u001B[0m\u001B[1;33m:\u001B[0m\u001B[1;33m\u001B[0m\u001B[1;33m\u001B[0m\u001B[0m\n\u001B[0;32m    857\u001B[0m       \u001B[1;31m# Release the lock early so that multiple threads can perform the call\u001B[0m\u001B[1;33m\u001B[0m\u001B[1;33m\u001B[0m\u001B[1;33m\u001B[0m\u001B[0m\n",
      "\u001B[1;32mc:\\python38\\lib\\site-packages\\tensorflow\\python\\eager\\function.py\u001B[0m in \u001B[0;36m__call__\u001B[1;34m(self, *args, **kwargs)\u001B[0m\n\u001B[0;32m   2940\u001B[0m       (graph_function,\n\u001B[0;32m   2941\u001B[0m        filtered_flat_args) = self._maybe_define_function(args, kwargs)\n\u001B[1;32m-> 2942\u001B[1;33m     return graph_function._call_flat(\n\u001B[0m\u001B[0;32m   2943\u001B[0m         filtered_flat_args, captured_inputs=graph_function.captured_inputs)  # pylint: disable=protected-access\n\u001B[0;32m   2944\u001B[0m \u001B[1;33m\u001B[0m\u001B[0m\n",
      "\u001B[1;32mc:\\python38\\lib\\site-packages\\tensorflow\\python\\eager\\function.py\u001B[0m in \u001B[0;36m_call_flat\u001B[1;34m(self, args, captured_inputs, cancellation_manager)\u001B[0m\n\u001B[0;32m   1916\u001B[0m         and executing_eagerly):\n\u001B[0;32m   1917\u001B[0m       \u001B[1;31m# No tape is watching; skip to running the function.\u001B[0m\u001B[1;33m\u001B[0m\u001B[1;33m\u001B[0m\u001B[1;33m\u001B[0m\u001B[0m\n\u001B[1;32m-> 1918\u001B[1;33m       return self._build_call_outputs(self._inference_function.call(\n\u001B[0m\u001B[0;32m   1919\u001B[0m           ctx, args, cancellation_manager=cancellation_manager))\n\u001B[0;32m   1920\u001B[0m     forward_backward = self._select_forward_and_backward_functions(\n",
      "\u001B[1;32mc:\\python38\\lib\\site-packages\\tensorflow\\python\\eager\\function.py\u001B[0m in \u001B[0;36mcall\u001B[1;34m(self, ctx, args, cancellation_manager)\u001B[0m\n\u001B[0;32m    553\u001B[0m       \u001B[1;32mwith\u001B[0m \u001B[0m_InterpolateFunctionError\u001B[0m\u001B[1;33m(\u001B[0m\u001B[0mself\u001B[0m\u001B[1;33m)\u001B[0m\u001B[1;33m:\u001B[0m\u001B[1;33m\u001B[0m\u001B[1;33m\u001B[0m\u001B[0m\n\u001B[0;32m    554\u001B[0m         \u001B[1;32mif\u001B[0m \u001B[0mcancellation_manager\u001B[0m \u001B[1;32mis\u001B[0m \u001B[1;32mNone\u001B[0m\u001B[1;33m:\u001B[0m\u001B[1;33m\u001B[0m\u001B[1;33m\u001B[0m\u001B[0m\n\u001B[1;32m--> 555\u001B[1;33m           outputs = execute.execute(\n\u001B[0m\u001B[0;32m    556\u001B[0m               \u001B[0mstr\u001B[0m\u001B[1;33m(\u001B[0m\u001B[0mself\u001B[0m\u001B[1;33m.\u001B[0m\u001B[0msignature\u001B[0m\u001B[1;33m.\u001B[0m\u001B[0mname\u001B[0m\u001B[1;33m)\u001B[0m\u001B[1;33m,\u001B[0m\u001B[1;33m\u001B[0m\u001B[1;33m\u001B[0m\u001B[0m\n\u001B[0;32m    557\u001B[0m               \u001B[0mnum_outputs\u001B[0m\u001B[1;33m=\u001B[0m\u001B[0mself\u001B[0m\u001B[1;33m.\u001B[0m\u001B[0m_num_outputs\u001B[0m\u001B[1;33m,\u001B[0m\u001B[1;33m\u001B[0m\u001B[1;33m\u001B[0m\u001B[0m\n",
      "\u001B[1;32mc:\\python38\\lib\\site-packages\\tensorflow\\python\\eager\\execute.py\u001B[0m in \u001B[0;36mquick_execute\u001B[1;34m(op_name, num_outputs, inputs, attrs, ctx, name)\u001B[0m\n\u001B[0;32m     57\u001B[0m   \u001B[1;32mtry\u001B[0m\u001B[1;33m:\u001B[0m\u001B[1;33m\u001B[0m\u001B[1;33m\u001B[0m\u001B[0m\n\u001B[0;32m     58\u001B[0m     \u001B[0mctx\u001B[0m\u001B[1;33m.\u001B[0m\u001B[0mensure_initialized\u001B[0m\u001B[1;33m(\u001B[0m\u001B[1;33m)\u001B[0m\u001B[1;33m\u001B[0m\u001B[1;33m\u001B[0m\u001B[0m\n\u001B[1;32m---> 59\u001B[1;33m     tensors = pywrap_tfe.TFE_Py_Execute(ctx._handle, device_name, op_name,\n\u001B[0m\u001B[0;32m     60\u001B[0m                                         inputs, attrs, num_outputs)\n\u001B[0;32m     61\u001B[0m   \u001B[1;32mexcept\u001B[0m \u001B[0mcore\u001B[0m\u001B[1;33m.\u001B[0m\u001B[0m_NotOkStatusException\u001B[0m \u001B[1;32mas\u001B[0m \u001B[0me\u001B[0m\u001B[1;33m:\u001B[0m\u001B[1;33m\u001B[0m\u001B[1;33m\u001B[0m\u001B[0m\n",
      "\u001B[1;31mKeyboardInterrupt\u001B[0m: "
     ]
    }
   ],
   "source": [
    "# Training\n",
    "agent.train = common.function(agent.train)\n",
    "agent.train_step_counter.assign(0)\n",
    "\n",
    "for ep in range(num_episodes):\n",
    "    done = False\n",
    "    best_solution = tf.float32.max\n",
    "    ep_rew = 0.0\n",
    "    while not done:\n",
    "        time_step, _ = driver.run()\n",
    "        experience, unused_info = next(iterator)\n",
    "        agent.train(experience)\n",
    "\n",
    "        obj_value = -time_step.reward.numpy()[0]\n",
    "\n",
    "        if obj_value < best_solution and not time_step.is_first():\n",
    "            best_solution = obj_value\n",
    "\n",
    "        ep_rew += -obj_value\n",
    "        done = time_step.is_last()\n",
    "\n",
    "    print('episode = {0} Best solution on episode: {1} Return on episode: {2}'.format(ep, best_solution, ep_rew))"
   ]
  },
  {
   "cell_type": "markdown",
   "metadata": {
    "id": "AqJzanqWUi3_"
   },
   "source": [
    "Realizando os testes do agente depois que sendo chamado"
   ]
  },
  {
   "cell_type": "code",
   "execution_count": null,
   "metadata": {
    "id": "mfnjCK1DqgV4"
   },
   "outputs": [],
   "source": [
    "evaluate_agent(tf_env_eval, agent.policy, function, dims)"
   ]
  },
  {
   "cell_type": "code",
   "execution_count": null,
   "metadata": {
    "id": "wTldFX6KJ2nC"
   },
   "outputs": [],
   "source": [
    "evaluate_agent(tf_env_eval, agent.collect_policy, function, dims)"
   ]
  },
  {
   "cell_type": "markdown",
   "metadata": {
    "id": "HR-bXvyWcHPT"
   },
   "source": [
    "Salvando ambas policies e agente"
   ]
  },
  {
   "cell_type": "code",
   "execution_count": null,
   "metadata": {
    "id": "OEDlq5sxcGN6"
   },
   "outputs": [],
   "source": [
    "from tf_agents.policies.policy_saver import PolicySaver\n",
    "\n",
    "tf_policy_saver = PolicySaver(agent.policy)\n",
    "tf_policy_collect_saver = PolicySaver(agent.collect_policy)\n",
    "\n",
    "tf_policy_saver.save('policy')\n",
    "tf_policy_collect_saver.save('policy_collect')"
   ]
  },
  {
   "cell_type": "markdown",
   "metadata": {
    "pycharm": {
     "name": "#%% md\n"
    }
   },
   "source": [
    "Fazendo download dos arquivos"
   ]
  },
  {
   "cell_type": "code",
   "execution_count": null,
   "metadata": {
    "pycharm": {
     "name": "#%%\n"
    }
   },
   "outputs": [],
   "source": [
    "from google.colab import files\n",
    "from os import system\n",
    "agent_file_name = f'policies-TD3-{function.name}-{str(dims)}d.zip'\n",
    "system(f'zip -r {agent_file_name} policy/ policy_collect/')\n",
    "files.download(agent_file_name)"
   ]
  }
 ],
 "metadata": {
  "colab": {
   "collapsed_sections": [],
   "name": "FunctionEnv-TFA-TD3-Model.ipynb",
   "provenance": []
  },
  "kernelspec": {
   "display_name": "Python 3",
   "language": "python",
   "name": "python3"
  },
  "language_info": {
   "codemirror_mode": {
    "name": "ipython",
    "version": 3
   },
   "file_extension": ".py",
   "mimetype": "text/x-python",
   "name": "python",
   "nbconvert_exporter": "python",
   "pygments_lexer": "ipython3",
   "version": "3.8.0"
  }
 },
 "nbformat": 4,
 "nbformat_minor": 1
}